{
  "metadata": {
    "kernelspec": {
      "language": "python",
      "display_name": "Python 3",
      "name": "python3"
    },
    "language_info": {
      "name": "python",
      "version": "3.7.12",
      "mimetype": "text/x-python",
      "codemirror_mode": {
        "name": "ipython",
        "version": 3
      },
      "pygments_lexer": "ipython3",
      "nbconvert_exporter": "python",
      "file_extension": ".py"
    },
    "colab": {
      "name": "Dep Sales.ipynb",
      "provenance": [],
      "collapsed_sections": [],
      "toc_visible": true
    }
  },
  "nbformat_minor": 0,
  "nbformat": 4,
  "cells": [
    {
      "cell_type": "markdown",
      "source": [
        "These metrics are as follows:\n",
        "\n",
        "id -- ID order items\n",
        "\n",
        "order_id -- ID Order (tabel)\n",
        "\n",
        "user_id -- ID User (tabel)\n",
        "\n",
        "product_id -- ID Product (tabel)\n",
        "\n",
        "inventory_item_id -- ID Inventory Item (tabel)\n",
        "\n",
        "status -- Status Order\n",
        "\n",
        "created_at -- Waktu yang dicatat saat order dipesan\n",
        "\n",
        "shipped_at -- Waktu yang dicatat saat  order dikemas \n",
        "\n",
        "delivered_at -- Waktu yang dicatat saat  order dikirim\n",
        "\n",
        "returned_at -- Waktu yang dicatat saat order dikembalikan oleh User\n",
        "\n",
        "sale_price -- Harga jual barang ($)\n",
        "\n"
      ],
      "metadata": {
        "id": "BDF4eKIO9ed8"
      }
    },
    {
      "cell_type": "markdown",
      "source": [
        "### 1 Import Package\n"
      ],
      "metadata": {
        "id": "gDMICDJvg73U"
      }
    },
    {
      "cell_type": "code",
      "source": [
        "from google.colab import drive\n",
        "drive.mount('/content/drive')"
      ],
      "metadata": {
        "colab": {
          "base_uri": "https://localhost:8080/"
        },
        "id": "EoBTNPBGdq63",
        "outputId": "6347ee6e-8981-436e-bbc6-d5692d4cb8e4"
      },
      "execution_count": 1,
      "outputs": [
        {
          "output_type": "stream",
          "name": "stdout",
          "text": [
            "Drive already mounted at /content/drive; to attempt to forcibly remount, call drive.mount(\"/content/drive\", force_remount=True).\n"
          ]
        }
      ]
    },
    {
      "cell_type": "code",
      "source": [
        "#import Library\n",
        "\n",
        "import matplotlib.pyplot as plt #untuk visualisasi\n",
        "import numpy as np #numpy untuk mengolah angka, number py\n",
        "import pandas as pd #untuk mengolah data\n",
        "import seaborn as sns #untuk visualisasi\n",
        "\n",
        "plt.style.use(\"fivethirtyeight\")\n",
        "print(\"Import Library berhasil \")"
      ],
      "metadata": {
        "id": "9DTwzOcQjabq",
        "outputId": "c5cea7f9-7f8a-4339-b35e-e5bfb96d6b25",
        "execution": {
          "iopub.status.busy": "2022-04-24T09:30:39.173814Z",
          "iopub.execute_input": "2022-04-24T09:30:39.174522Z",
          "iopub.status.idle": "2022-04-24T09:30:40.657415Z",
          "shell.execute_reply.started": "2022-04-24T09:30:39.174482Z",
          "shell.execute_reply": "2022-04-24T09:30:40.656758Z"
        },
        "trusted": true,
        "colab": {
          "base_uri": "https://localhost:8080/"
        }
      },
      "execution_count": 2,
      "outputs": [
        {
          "output_type": "stream",
          "name": "stdout",
          "text": [
            "Import Library berhasil \n"
          ]
        }
      ]
    },
    {
      "cell_type": "markdown",
      "source": [
        "## 2 Import dataset"
      ],
      "metadata": {
        "id": "aQW_aSVFqYCR"
      }
    },
    {
      "cell_type": "code",
      "source": [
        "#Import data\n",
        "\n",
        "df_f = pd.read_csv(\"/content/drive/MyDrive/Final project/Guidelines/dataset/data_status Complete.csv\")\n",
        "df_p = pd.read_csv(\"/content/drive/MyDrive/Final project/Guidelines/dataset/data-hasil olah.csv\")\n",
        "df_p.shape\n"
      ],
      "metadata": {
        "id": "dW0pZ4oUjab4",
        "execution": {
          "iopub.status.busy": "2022-04-24T09:30:40.658709Z",
          "iopub.execute_input": "2022-04-24T09:30:40.659331Z",
          "iopub.status.idle": "2022-04-24T09:30:40.681592Z",
          "shell.execute_reply.started": "2022-04-24T09:30:40.659297Z",
          "shell.execute_reply": "2022-04-24T09:30:40.680741Z"
        },
        "trusted": true,
        "colab": {
          "base_uri": "https://localhost:8080/"
        },
        "outputId": "db7c4310-e6b6-4174-eb4f-95a8c18bb325"
      },
      "execution_count": 3,
      "outputs": [
        {
          "output_type": "execute_result",
          "data": {
            "text/plain": [
              "(180508, 10)"
            ]
          },
          "metadata": {},
          "execution_count": 3
        }
      ]
    },
    {
      "cell_type": "markdown",
      "source": [
        "### Understanding the data and EDA"
      ],
      "metadata": {
        "id": "VJy35dTCqtMe"
      }
    },
    {
      "cell_type": "code",
      "source": [
        "df_p.describe()"
      ],
      "metadata": {
        "colab": {
          "base_uri": "https://localhost:8080/",
          "height": 300
        },
        "id": "-UsSkY5CXuTB",
        "outputId": "229494e3-537f-4165-ccb8-1b9ccf8f9f03"
      },
      "execution_count": 4,
      "outputs": [
        {
          "output_type": "execute_result",
          "data": {
            "text/plain": [
              "            order_id        user_id    num_of_item     sale_price\n",
              "count  180508.000000  180508.000000  180508.000000  180508.000000\n",
              "mean    62408.024420   50171.351602       1.894021      59.799867\n",
              "std     35991.857094   28839.688216       1.058109      65.844662\n",
              "min         1.000000       1.000000       1.000000       0.020000\n",
              "25%     31249.750000   25249.750000       1.000000      24.900000\n",
              "50%     62520.000000   50273.000000       2.000000      39.990002\n",
              "75%     93647.000000   75175.000000       2.000000      69.949997\n",
              "max    124512.000000  100000.000000       4.000000     999.000000"
            ],
            "text/html": [
              "\n",
              "  <div id=\"df-f593fd34-2623-45df-b80f-6a0e6f114c64\">\n",
              "    <div class=\"colab-df-container\">\n",
              "      <div>\n",
              "<style scoped>\n",
              "    .dataframe tbody tr th:only-of-type {\n",
              "        vertical-align: middle;\n",
              "    }\n",
              "\n",
              "    .dataframe tbody tr th {\n",
              "        vertical-align: top;\n",
              "    }\n",
              "\n",
              "    .dataframe thead th {\n",
              "        text-align: right;\n",
              "    }\n",
              "</style>\n",
              "<table border=\"1\" class=\"dataframe\">\n",
              "  <thead>\n",
              "    <tr style=\"text-align: right;\">\n",
              "      <th></th>\n",
              "      <th>order_id</th>\n",
              "      <th>user_id</th>\n",
              "      <th>num_of_item</th>\n",
              "      <th>sale_price</th>\n",
              "    </tr>\n",
              "  </thead>\n",
              "  <tbody>\n",
              "    <tr>\n",
              "      <th>count</th>\n",
              "      <td>180508.000000</td>\n",
              "      <td>180508.000000</td>\n",
              "      <td>180508.000000</td>\n",
              "      <td>180508.000000</td>\n",
              "    </tr>\n",
              "    <tr>\n",
              "      <th>mean</th>\n",
              "      <td>62408.024420</td>\n",
              "      <td>50171.351602</td>\n",
              "      <td>1.894021</td>\n",
              "      <td>59.799867</td>\n",
              "    </tr>\n",
              "    <tr>\n",
              "      <th>std</th>\n",
              "      <td>35991.857094</td>\n",
              "      <td>28839.688216</td>\n",
              "      <td>1.058109</td>\n",
              "      <td>65.844662</td>\n",
              "    </tr>\n",
              "    <tr>\n",
              "      <th>min</th>\n",
              "      <td>1.000000</td>\n",
              "      <td>1.000000</td>\n",
              "      <td>1.000000</td>\n",
              "      <td>0.020000</td>\n",
              "    </tr>\n",
              "    <tr>\n",
              "      <th>25%</th>\n",
              "      <td>31249.750000</td>\n",
              "      <td>25249.750000</td>\n",
              "      <td>1.000000</td>\n",
              "      <td>24.900000</td>\n",
              "    </tr>\n",
              "    <tr>\n",
              "      <th>50%</th>\n",
              "      <td>62520.000000</td>\n",
              "      <td>50273.000000</td>\n",
              "      <td>2.000000</td>\n",
              "      <td>39.990002</td>\n",
              "    </tr>\n",
              "    <tr>\n",
              "      <th>75%</th>\n",
              "      <td>93647.000000</td>\n",
              "      <td>75175.000000</td>\n",
              "      <td>2.000000</td>\n",
              "      <td>69.949997</td>\n",
              "    </tr>\n",
              "    <tr>\n",
              "      <th>max</th>\n",
              "      <td>124512.000000</td>\n",
              "      <td>100000.000000</td>\n",
              "      <td>4.000000</td>\n",
              "      <td>999.000000</td>\n",
              "    </tr>\n",
              "  </tbody>\n",
              "</table>\n",
              "</div>\n",
              "      <button class=\"colab-df-convert\" onclick=\"convertToInteractive('df-f593fd34-2623-45df-b80f-6a0e6f114c64')\"\n",
              "              title=\"Convert this dataframe to an interactive table.\"\n",
              "              style=\"display:none;\">\n",
              "        \n",
              "  <svg xmlns=\"http://www.w3.org/2000/svg\" height=\"24px\"viewBox=\"0 0 24 24\"\n",
              "       width=\"24px\">\n",
              "    <path d=\"M0 0h24v24H0V0z\" fill=\"none\"/>\n",
              "    <path d=\"M18.56 5.44l.94 2.06.94-2.06 2.06-.94-2.06-.94-.94-2.06-.94 2.06-2.06.94zm-11 1L8.5 8.5l.94-2.06 2.06-.94-2.06-.94L8.5 2.5l-.94 2.06-2.06.94zm10 10l.94 2.06.94-2.06 2.06-.94-2.06-.94-.94-2.06-.94 2.06-2.06.94z\"/><path d=\"M17.41 7.96l-1.37-1.37c-.4-.4-.92-.59-1.43-.59-.52 0-1.04.2-1.43.59L10.3 9.45l-7.72 7.72c-.78.78-.78 2.05 0 2.83L4 21.41c.39.39.9.59 1.41.59.51 0 1.02-.2 1.41-.59l7.78-7.78 2.81-2.81c.8-.78.8-2.07 0-2.86zM5.41 20L4 18.59l7.72-7.72 1.47 1.35L5.41 20z\"/>\n",
              "  </svg>\n",
              "      </button>\n",
              "      \n",
              "  <style>\n",
              "    .colab-df-container {\n",
              "      display:flex;\n",
              "      flex-wrap:wrap;\n",
              "      gap: 12px;\n",
              "    }\n",
              "\n",
              "    .colab-df-convert {\n",
              "      background-color: #E8F0FE;\n",
              "      border: none;\n",
              "      border-radius: 50%;\n",
              "      cursor: pointer;\n",
              "      display: none;\n",
              "      fill: #1967D2;\n",
              "      height: 32px;\n",
              "      padding: 0 0 0 0;\n",
              "      width: 32px;\n",
              "    }\n",
              "\n",
              "    .colab-df-convert:hover {\n",
              "      background-color: #E2EBFA;\n",
              "      box-shadow: 0px 1px 2px rgba(60, 64, 67, 0.3), 0px 1px 3px 1px rgba(60, 64, 67, 0.15);\n",
              "      fill: #174EA6;\n",
              "    }\n",
              "\n",
              "    [theme=dark] .colab-df-convert {\n",
              "      background-color: #3B4455;\n",
              "      fill: #D2E3FC;\n",
              "    }\n",
              "\n",
              "    [theme=dark] .colab-df-convert:hover {\n",
              "      background-color: #434B5C;\n",
              "      box-shadow: 0px 1px 3px 1px rgba(0, 0, 0, 0.15);\n",
              "      filter: drop-shadow(0px 1px 2px rgba(0, 0, 0, 0.3));\n",
              "      fill: #FFFFFF;\n",
              "    }\n",
              "  </style>\n",
              "\n",
              "      <script>\n",
              "        const buttonEl =\n",
              "          document.querySelector('#df-f593fd34-2623-45df-b80f-6a0e6f114c64 button.colab-df-convert');\n",
              "        buttonEl.style.display =\n",
              "          google.colab.kernel.accessAllowed ? 'block' : 'none';\n",
              "\n",
              "        async function convertToInteractive(key) {\n",
              "          const element = document.querySelector('#df-f593fd34-2623-45df-b80f-6a0e6f114c64');\n",
              "          const dataTable =\n",
              "            await google.colab.kernel.invokeFunction('convertToInteractive',\n",
              "                                                     [key], {});\n",
              "          if (!dataTable) return;\n",
              "\n",
              "          const docLinkHtml = 'Like what you see? Visit the ' +\n",
              "            '<a target=\"_blank\" href=https://colab.research.google.com/notebooks/data_table.ipynb>data table notebook</a>'\n",
              "            + ' to learn more about interactive tables.';\n",
              "          element.innerHTML = '';\n",
              "          dataTable['output_type'] = 'display_data';\n",
              "          await google.colab.output.renderOutput(dataTable, element);\n",
              "          const docLink = document.createElement('div');\n",
              "          docLink.innerHTML = docLinkHtml;\n",
              "          element.appendChild(docLink);\n",
              "        }\n",
              "      </script>\n",
              "    </div>\n",
              "  </div>\n",
              "  "
            ]
          },
          "metadata": {},
          "execution_count": 4
        }
      ]
    },
    {
      "cell_type": "code",
      "source": [
        "df_p['sale'] = df_p['num_of_item']*df_p['sale_price']\n",
        "df_f['sale'] = df_f['num_of_item']*df_f['sale_price']"
      ],
      "metadata": {
        "id": "WTmaoHpUuyG6"
      },
      "execution_count": 5,
      "outputs": []
    },
    {
      "cell_type": "code",
      "source": [
        "df_f.drop('order_id',1,inplace=True)\n",
        "df_f.drop('user_id',1,inplace=True)\n",
        "df_f.drop('returned_at',1,inplace=True)"
      ],
      "metadata": {
        "colab": {
          "base_uri": "https://localhost:8080/"
        },
        "id": "2bpgD9zorz0O",
        "outputId": "d910d603-23e0-44bb-f973-3c2b1b63bc6d"
      },
      "execution_count": 6,
      "outputs": [
        {
          "output_type": "stream",
          "name": "stderr",
          "text": [
            "/usr/local/lib/python3.7/dist-packages/ipykernel_launcher.py:1: FutureWarning: In a future version of pandas all arguments of DataFrame.drop except for the argument 'labels' will be keyword-only\n",
            "  \"\"\"Entry point for launching an IPython kernel.\n",
            "/usr/local/lib/python3.7/dist-packages/ipykernel_launcher.py:2: FutureWarning: In a future version of pandas all arguments of DataFrame.drop except for the argument 'labels' will be keyword-only\n",
            "  \n",
            "/usr/local/lib/python3.7/dist-packages/ipykernel_launcher.py:3: FutureWarning: In a future version of pandas all arguments of DataFrame.drop except for the argument 'labels' will be keyword-only\n",
            "  This is separate from the ipykernel package so we can avoid doing imports until\n"
          ]
        }
      ]
    },
    {
      "cell_type": "code",
      "source": [
        "df_f"
      ],
      "metadata": {
        "colab": {
          "base_uri": "https://localhost:8080/",
          "height": 520
        },
        "id": "xe6wwwFBderQ",
        "outputId": "a42a2e23-8dea-4de0-95a4-bd880cea8576"
      },
      "execution_count": 9,
      "outputs": [
        {
          "output_type": "execute_result",
          "data": {
            "text/plain": [
              "      gender    status                        created_at  \\\n",
              "0          M  Complete         2019-01-05 05:39:08+00:00   \n",
              "1          M  Complete         2019-01-08 04:16:03+00:00   \n",
              "2          M  Complete         2019-01-10 16:16:21+00:00   \n",
              "3          M  Complete         2019-01-12 14:41:16+00:00   \n",
              "4          M  Complete         2019-01-13 01:12:59+00:00   \n",
              "...      ...       ...                               ...   \n",
              "45278      F  Complete         2022-06-06 15:48:47+00:00   \n",
              "45279      F  Complete  2022-06-06 15:50:25.550134+00:00   \n",
              "45280      F  Complete         2022-06-06 16:18:33+00:00   \n",
              "45281      M  Complete  2022-06-06 16:26:45.823756+00:00   \n",
              "45282      F  Complete  2022-06-06 17:17:33.005180+00:00   \n",
              "\n",
              "                             shipped_at                      delivered_at  \\\n",
              "0             2019-01-06 05:58:00+00:00         2019-01-06 09:44:00+00:00   \n",
              "1             2019-01-06 05:58:00+00:00         2019-01-06 09:44:00+00:00   \n",
              "2             2019-01-12 06:49:00+00:00         2019-01-15 09:48:00+00:00   \n",
              "3             2019-01-14 00:14:00+00:00         2019-01-18 16:36:00+00:00   \n",
              "4             2019-01-14 14:12:00+00:00         2019-01-15 18:21:00+00:00   \n",
              "...                                 ...                               ...   \n",
              "45278         2022-06-02 23:51:00+00:00         2022-06-04 21:55:00+00:00   \n",
              "45279  2022-06-04 05:08:09.550134+00:00  2022-06-07 20:58:09.550134+00:00   \n",
              "45280         2022-06-02 23:51:00+00:00         2022-06-04 21:55:00+00:00   \n",
              "45281  2022-06-04 05:53:30.823756+00:00  2022-06-08 03:50:30.823756+00:00   \n",
              "45282  2022-06-04 21:50:53.005180+00:00  2022-06-06 23:35:53.005180+00:00   \n",
              "\n",
              "       num_of_item  sale_price        sale  \n",
              "0                2   79.949997  159.899994  \n",
              "1                2   18.000000   36.000000  \n",
              "2                2   46.619999   93.239998  \n",
              "3                1   22.000000   22.000000  \n",
              "4                1   74.500000   74.500000  \n",
              "...            ...         ...         ...  \n",
              "45278            4   50.000000  200.000000  \n",
              "45279            4   45.000000  180.000000  \n",
              "45280            4   39.500000  158.000000  \n",
              "45281            2   40.599998   81.199997  \n",
              "45282            2   12.990000   25.980000  \n",
              "\n",
              "[45283 rows x 8 columns]"
            ],
            "text/html": [
              "\n",
              "  <div id=\"df-9337dfaf-034a-4c1c-acba-b4c2d7db477b\">\n",
              "    <div class=\"colab-df-container\">\n",
              "      <div>\n",
              "<style scoped>\n",
              "    .dataframe tbody tr th:only-of-type {\n",
              "        vertical-align: middle;\n",
              "    }\n",
              "\n",
              "    .dataframe tbody tr th {\n",
              "        vertical-align: top;\n",
              "    }\n",
              "\n",
              "    .dataframe thead th {\n",
              "        text-align: right;\n",
              "    }\n",
              "</style>\n",
              "<table border=\"1\" class=\"dataframe\">\n",
              "  <thead>\n",
              "    <tr style=\"text-align: right;\">\n",
              "      <th></th>\n",
              "      <th>gender</th>\n",
              "      <th>status</th>\n",
              "      <th>created_at</th>\n",
              "      <th>shipped_at</th>\n",
              "      <th>delivered_at</th>\n",
              "      <th>num_of_item</th>\n",
              "      <th>sale_price</th>\n",
              "      <th>sale</th>\n",
              "    </tr>\n",
              "  </thead>\n",
              "  <tbody>\n",
              "    <tr>\n",
              "      <th>0</th>\n",
              "      <td>M</td>\n",
              "      <td>Complete</td>\n",
              "      <td>2019-01-05 05:39:08+00:00</td>\n",
              "      <td>2019-01-06 05:58:00+00:00</td>\n",
              "      <td>2019-01-06 09:44:00+00:00</td>\n",
              "      <td>2</td>\n",
              "      <td>79.949997</td>\n",
              "      <td>159.899994</td>\n",
              "    </tr>\n",
              "    <tr>\n",
              "      <th>1</th>\n",
              "      <td>M</td>\n",
              "      <td>Complete</td>\n",
              "      <td>2019-01-08 04:16:03+00:00</td>\n",
              "      <td>2019-01-06 05:58:00+00:00</td>\n",
              "      <td>2019-01-06 09:44:00+00:00</td>\n",
              "      <td>2</td>\n",
              "      <td>18.000000</td>\n",
              "      <td>36.000000</td>\n",
              "    </tr>\n",
              "    <tr>\n",
              "      <th>2</th>\n",
              "      <td>M</td>\n",
              "      <td>Complete</td>\n",
              "      <td>2019-01-10 16:16:21+00:00</td>\n",
              "      <td>2019-01-12 06:49:00+00:00</td>\n",
              "      <td>2019-01-15 09:48:00+00:00</td>\n",
              "      <td>2</td>\n",
              "      <td>46.619999</td>\n",
              "      <td>93.239998</td>\n",
              "    </tr>\n",
              "    <tr>\n",
              "      <th>3</th>\n",
              "      <td>M</td>\n",
              "      <td>Complete</td>\n",
              "      <td>2019-01-12 14:41:16+00:00</td>\n",
              "      <td>2019-01-14 00:14:00+00:00</td>\n",
              "      <td>2019-01-18 16:36:00+00:00</td>\n",
              "      <td>1</td>\n",
              "      <td>22.000000</td>\n",
              "      <td>22.000000</td>\n",
              "    </tr>\n",
              "    <tr>\n",
              "      <th>4</th>\n",
              "      <td>M</td>\n",
              "      <td>Complete</td>\n",
              "      <td>2019-01-13 01:12:59+00:00</td>\n",
              "      <td>2019-01-14 14:12:00+00:00</td>\n",
              "      <td>2019-01-15 18:21:00+00:00</td>\n",
              "      <td>1</td>\n",
              "      <td>74.500000</td>\n",
              "      <td>74.500000</td>\n",
              "    </tr>\n",
              "    <tr>\n",
              "      <th>...</th>\n",
              "      <td>...</td>\n",
              "      <td>...</td>\n",
              "      <td>...</td>\n",
              "      <td>...</td>\n",
              "      <td>...</td>\n",
              "      <td>...</td>\n",
              "      <td>...</td>\n",
              "      <td>...</td>\n",
              "    </tr>\n",
              "    <tr>\n",
              "      <th>45278</th>\n",
              "      <td>F</td>\n",
              "      <td>Complete</td>\n",
              "      <td>2022-06-06 15:48:47+00:00</td>\n",
              "      <td>2022-06-02 23:51:00+00:00</td>\n",
              "      <td>2022-06-04 21:55:00+00:00</td>\n",
              "      <td>4</td>\n",
              "      <td>50.000000</td>\n",
              "      <td>200.000000</td>\n",
              "    </tr>\n",
              "    <tr>\n",
              "      <th>45279</th>\n",
              "      <td>F</td>\n",
              "      <td>Complete</td>\n",
              "      <td>2022-06-06 15:50:25.550134+00:00</td>\n",
              "      <td>2022-06-04 05:08:09.550134+00:00</td>\n",
              "      <td>2022-06-07 20:58:09.550134+00:00</td>\n",
              "      <td>4</td>\n",
              "      <td>45.000000</td>\n",
              "      <td>180.000000</td>\n",
              "    </tr>\n",
              "    <tr>\n",
              "      <th>45280</th>\n",
              "      <td>F</td>\n",
              "      <td>Complete</td>\n",
              "      <td>2022-06-06 16:18:33+00:00</td>\n",
              "      <td>2022-06-02 23:51:00+00:00</td>\n",
              "      <td>2022-06-04 21:55:00+00:00</td>\n",
              "      <td>4</td>\n",
              "      <td>39.500000</td>\n",
              "      <td>158.000000</td>\n",
              "    </tr>\n",
              "    <tr>\n",
              "      <th>45281</th>\n",
              "      <td>M</td>\n",
              "      <td>Complete</td>\n",
              "      <td>2022-06-06 16:26:45.823756+00:00</td>\n",
              "      <td>2022-06-04 05:53:30.823756+00:00</td>\n",
              "      <td>2022-06-08 03:50:30.823756+00:00</td>\n",
              "      <td>2</td>\n",
              "      <td>40.599998</td>\n",
              "      <td>81.199997</td>\n",
              "    </tr>\n",
              "    <tr>\n",
              "      <th>45282</th>\n",
              "      <td>F</td>\n",
              "      <td>Complete</td>\n",
              "      <td>2022-06-06 17:17:33.005180+00:00</td>\n",
              "      <td>2022-06-04 21:50:53.005180+00:00</td>\n",
              "      <td>2022-06-06 23:35:53.005180+00:00</td>\n",
              "      <td>2</td>\n",
              "      <td>12.990000</td>\n",
              "      <td>25.980000</td>\n",
              "    </tr>\n",
              "  </tbody>\n",
              "</table>\n",
              "<p>45283 rows × 8 columns</p>\n",
              "</div>\n",
              "      <button class=\"colab-df-convert\" onclick=\"convertToInteractive('df-9337dfaf-034a-4c1c-acba-b4c2d7db477b')\"\n",
              "              title=\"Convert this dataframe to an interactive table.\"\n",
              "              style=\"display:none;\">\n",
              "        \n",
              "  <svg xmlns=\"http://www.w3.org/2000/svg\" height=\"24px\"viewBox=\"0 0 24 24\"\n",
              "       width=\"24px\">\n",
              "    <path d=\"M0 0h24v24H0V0z\" fill=\"none\"/>\n",
              "    <path d=\"M18.56 5.44l.94 2.06.94-2.06 2.06-.94-2.06-.94-.94-2.06-.94 2.06-2.06.94zm-11 1L8.5 8.5l.94-2.06 2.06-.94-2.06-.94L8.5 2.5l-.94 2.06-2.06.94zm10 10l.94 2.06.94-2.06 2.06-.94-2.06-.94-.94-2.06-.94 2.06-2.06.94z\"/><path d=\"M17.41 7.96l-1.37-1.37c-.4-.4-.92-.59-1.43-.59-.52 0-1.04.2-1.43.59L10.3 9.45l-7.72 7.72c-.78.78-.78 2.05 0 2.83L4 21.41c.39.39.9.59 1.41.59.51 0 1.02-.2 1.41-.59l7.78-7.78 2.81-2.81c.8-.78.8-2.07 0-2.86zM5.41 20L4 18.59l7.72-7.72 1.47 1.35L5.41 20z\"/>\n",
              "  </svg>\n",
              "      </button>\n",
              "      \n",
              "  <style>\n",
              "    .colab-df-container {\n",
              "      display:flex;\n",
              "      flex-wrap:wrap;\n",
              "      gap: 12px;\n",
              "    }\n",
              "\n",
              "    .colab-df-convert {\n",
              "      background-color: #E8F0FE;\n",
              "      border: none;\n",
              "      border-radius: 50%;\n",
              "      cursor: pointer;\n",
              "      display: none;\n",
              "      fill: #1967D2;\n",
              "      height: 32px;\n",
              "      padding: 0 0 0 0;\n",
              "      width: 32px;\n",
              "    }\n",
              "\n",
              "    .colab-df-convert:hover {\n",
              "      background-color: #E2EBFA;\n",
              "      box-shadow: 0px 1px 2px rgba(60, 64, 67, 0.3), 0px 1px 3px 1px rgba(60, 64, 67, 0.15);\n",
              "      fill: #174EA6;\n",
              "    }\n",
              "\n",
              "    [theme=dark] .colab-df-convert {\n",
              "      background-color: #3B4455;\n",
              "      fill: #D2E3FC;\n",
              "    }\n",
              "\n",
              "    [theme=dark] .colab-df-convert:hover {\n",
              "      background-color: #434B5C;\n",
              "      box-shadow: 0px 1px 3px 1px rgba(0, 0, 0, 0.15);\n",
              "      filter: drop-shadow(0px 1px 2px rgba(0, 0, 0, 0.3));\n",
              "      fill: #FFFFFF;\n",
              "    }\n",
              "  </style>\n",
              "\n",
              "      <script>\n",
              "        const buttonEl =\n",
              "          document.querySelector('#df-9337dfaf-034a-4c1c-acba-b4c2d7db477b button.colab-df-convert');\n",
              "        buttonEl.style.display =\n",
              "          google.colab.kernel.accessAllowed ? 'block' : 'none';\n",
              "\n",
              "        async function convertToInteractive(key) {\n",
              "          const element = document.querySelector('#df-9337dfaf-034a-4c1c-acba-b4c2d7db477b');\n",
              "          const dataTable =\n",
              "            await google.colab.kernel.invokeFunction('convertToInteractive',\n",
              "                                                     [key], {});\n",
              "          if (!dataTable) return;\n",
              "\n",
              "          const docLinkHtml = 'Like what you see? Visit the ' +\n",
              "            '<a target=\"_blank\" href=https://colab.research.google.com/notebooks/data_table.ipynb>data table notebook</a>'\n",
              "            + ' to learn more about interactive tables.';\n",
              "          element.innerHTML = '';\n",
              "          dataTable['output_type'] = 'display_data';\n",
              "          await google.colab.output.renderOutput(dataTable, element);\n",
              "          const docLink = document.createElement('div');\n",
              "          docLink.innerHTML = docLinkHtml;\n",
              "          element.appendChild(docLink);\n",
              "        }\n",
              "      </script>\n",
              "    </div>\n",
              "  </div>\n",
              "  "
            ]
          },
          "metadata": {},
          "execution_count": 9
        }
      ]
    },
    {
      "cell_type": "code",
      "source": [
        "#buang data yang berisi status order di cancelled\n",
        "df_p = df_p[~df_p['status'].isin (['Cancelled'])]\n",
        "df_p"
      ],
      "metadata": {
        "colab": {
          "base_uri": "https://localhost:8080/",
          "height": 662
        },
        "id": "63vsfvifth6z",
        "outputId": "1cfc6f93-02e0-4a77-8ca3-eddc107662d5"
      },
      "execution_count": 10,
      "outputs": [
        {
          "output_type": "execute_result",
          "data": {
            "text/plain": [
              "        order_id  user_id gender      status  \\\n",
              "0          44006    35515      F    Complete   \n",
              "2          27384    22099      M     Shipped   \n",
              "3          98658    79128      M    Returned   \n",
              "4         105326    84559      M    Returned   \n",
              "5          13443    10965      M     Shipped   \n",
              "...          ...      ...    ...         ...   \n",
              "180502    113476    91134      F     Shipped   \n",
              "180503    124048    99639      F     Shipped   \n",
              "180504    116180    93357      F    Complete   \n",
              "180506     92879    74538      F  Processing   \n",
              "180507     58830    47366      F    Complete   \n",
              "\n",
              "                              created_at                        shipped_at  \\\n",
              "0              2021-01-21 04:56:58+00:00         2021-01-19 07:16:00+00:00   \n",
              "2              2022-02-12 14:40:47+00:00         2022-02-15 04:48:00+00:00   \n",
              "3              2021-11-02 02:32:52+00:00         2021-11-02 12:34:00+00:00   \n",
              "4              2021-10-12 07:11:30+00:00         2021-10-13 00:10:00+00:00   \n",
              "5              2021-04-08 00:03:13+00:00         2021-04-08 12:24:00+00:00   \n",
              "...                                  ...                               ...   \n",
              "180502  2022-05-30 02:41:06.928559+00:00  2022-05-31 21:37:49.928559+00:00   \n",
              "180503         2019-10-09 00:49:17+00:00         2019-10-10 06:31:00+00:00   \n",
              "180504         2022-03-14 10:48:55+00:00         2022-03-16 03:56:00+00:00   \n",
              "180506         2021-12-13 05:53:52+00:00                               NaN   \n",
              "180507         2019-03-04 12:43:19+00:00         2019-03-01 15:24:00+00:00   \n",
              "\n",
              "                     delivered_at                returned_at  num_of_item  \\\n",
              "0       2021-01-22 03:38:00+00:00                        NaN            3   \n",
              "2                             NaN                        NaN            4   \n",
              "3       2021-11-06 20:31:00+00:00  2021-11-07 19:31:00+00:00            2   \n",
              "4       2021-10-14 01:20:00+00:00  2021-10-16 02:38:00+00:00            3   \n",
              "5                             NaN                        NaN            1   \n",
              "...                           ...                        ...          ...   \n",
              "180502                        NaN                        NaN            1   \n",
              "180503                        NaN                        NaN            4   \n",
              "180504  2022-03-18 05:36:00+00:00                        NaN            3   \n",
              "180506                        NaN                        NaN            4   \n",
              "180507  2019-03-03 05:05:00+00:00                        NaN            2   \n",
              "\n",
              "        sale_price       sale  \n",
              "0             2.50   7.500000  \n",
              "2             3.00  12.000000  \n",
              "3             3.00   6.000000  \n",
              "4             3.00   9.000000  \n",
              "5             3.25   3.250000  \n",
              "...            ...        ...  \n",
              "180502        9.32   9.320000  \n",
              "180503        9.32  37.279999  \n",
              "180504        9.32  27.959999  \n",
              "180506        9.32  37.279999  \n",
              "180507        9.82  19.639999  \n",
              "\n",
              "[153727 rows x 11 columns]"
            ],
            "text/html": [
              "\n",
              "  <div id=\"df-b585688b-5969-417f-8ea4-1d6294738905\">\n",
              "    <div class=\"colab-df-container\">\n",
              "      <div>\n",
              "<style scoped>\n",
              "    .dataframe tbody tr th:only-of-type {\n",
              "        vertical-align: middle;\n",
              "    }\n",
              "\n",
              "    .dataframe tbody tr th {\n",
              "        vertical-align: top;\n",
              "    }\n",
              "\n",
              "    .dataframe thead th {\n",
              "        text-align: right;\n",
              "    }\n",
              "</style>\n",
              "<table border=\"1\" class=\"dataframe\">\n",
              "  <thead>\n",
              "    <tr style=\"text-align: right;\">\n",
              "      <th></th>\n",
              "      <th>order_id</th>\n",
              "      <th>user_id</th>\n",
              "      <th>gender</th>\n",
              "      <th>status</th>\n",
              "      <th>created_at</th>\n",
              "      <th>shipped_at</th>\n",
              "      <th>delivered_at</th>\n",
              "      <th>returned_at</th>\n",
              "      <th>num_of_item</th>\n",
              "      <th>sale_price</th>\n",
              "      <th>sale</th>\n",
              "    </tr>\n",
              "  </thead>\n",
              "  <tbody>\n",
              "    <tr>\n",
              "      <th>0</th>\n",
              "      <td>44006</td>\n",
              "      <td>35515</td>\n",
              "      <td>F</td>\n",
              "      <td>Complete</td>\n",
              "      <td>2021-01-21 04:56:58+00:00</td>\n",
              "      <td>2021-01-19 07:16:00+00:00</td>\n",
              "      <td>2021-01-22 03:38:00+00:00</td>\n",
              "      <td>NaN</td>\n",
              "      <td>3</td>\n",
              "      <td>2.50</td>\n",
              "      <td>7.500000</td>\n",
              "    </tr>\n",
              "    <tr>\n",
              "      <th>2</th>\n",
              "      <td>27384</td>\n",
              "      <td>22099</td>\n",
              "      <td>M</td>\n",
              "      <td>Shipped</td>\n",
              "      <td>2022-02-12 14:40:47+00:00</td>\n",
              "      <td>2022-02-15 04:48:00+00:00</td>\n",
              "      <td>NaN</td>\n",
              "      <td>NaN</td>\n",
              "      <td>4</td>\n",
              "      <td>3.00</td>\n",
              "      <td>12.000000</td>\n",
              "    </tr>\n",
              "    <tr>\n",
              "      <th>3</th>\n",
              "      <td>98658</td>\n",
              "      <td>79128</td>\n",
              "      <td>M</td>\n",
              "      <td>Returned</td>\n",
              "      <td>2021-11-02 02:32:52+00:00</td>\n",
              "      <td>2021-11-02 12:34:00+00:00</td>\n",
              "      <td>2021-11-06 20:31:00+00:00</td>\n",
              "      <td>2021-11-07 19:31:00+00:00</td>\n",
              "      <td>2</td>\n",
              "      <td>3.00</td>\n",
              "      <td>6.000000</td>\n",
              "    </tr>\n",
              "    <tr>\n",
              "      <th>4</th>\n",
              "      <td>105326</td>\n",
              "      <td>84559</td>\n",
              "      <td>M</td>\n",
              "      <td>Returned</td>\n",
              "      <td>2021-10-12 07:11:30+00:00</td>\n",
              "      <td>2021-10-13 00:10:00+00:00</td>\n",
              "      <td>2021-10-14 01:20:00+00:00</td>\n",
              "      <td>2021-10-16 02:38:00+00:00</td>\n",
              "      <td>3</td>\n",
              "      <td>3.00</td>\n",
              "      <td>9.000000</td>\n",
              "    </tr>\n",
              "    <tr>\n",
              "      <th>5</th>\n",
              "      <td>13443</td>\n",
              "      <td>10965</td>\n",
              "      <td>M</td>\n",
              "      <td>Shipped</td>\n",
              "      <td>2021-04-08 00:03:13+00:00</td>\n",
              "      <td>2021-04-08 12:24:00+00:00</td>\n",
              "      <td>NaN</td>\n",
              "      <td>NaN</td>\n",
              "      <td>1</td>\n",
              "      <td>3.25</td>\n",
              "      <td>3.250000</td>\n",
              "    </tr>\n",
              "    <tr>\n",
              "      <th>...</th>\n",
              "      <td>...</td>\n",
              "      <td>...</td>\n",
              "      <td>...</td>\n",
              "      <td>...</td>\n",
              "      <td>...</td>\n",
              "      <td>...</td>\n",
              "      <td>...</td>\n",
              "      <td>...</td>\n",
              "      <td>...</td>\n",
              "      <td>...</td>\n",
              "      <td>...</td>\n",
              "    </tr>\n",
              "    <tr>\n",
              "      <th>180502</th>\n",
              "      <td>113476</td>\n",
              "      <td>91134</td>\n",
              "      <td>F</td>\n",
              "      <td>Shipped</td>\n",
              "      <td>2022-05-30 02:41:06.928559+00:00</td>\n",
              "      <td>2022-05-31 21:37:49.928559+00:00</td>\n",
              "      <td>NaN</td>\n",
              "      <td>NaN</td>\n",
              "      <td>1</td>\n",
              "      <td>9.32</td>\n",
              "      <td>9.320000</td>\n",
              "    </tr>\n",
              "    <tr>\n",
              "      <th>180503</th>\n",
              "      <td>124048</td>\n",
              "      <td>99639</td>\n",
              "      <td>F</td>\n",
              "      <td>Shipped</td>\n",
              "      <td>2019-10-09 00:49:17+00:00</td>\n",
              "      <td>2019-10-10 06:31:00+00:00</td>\n",
              "      <td>NaN</td>\n",
              "      <td>NaN</td>\n",
              "      <td>4</td>\n",
              "      <td>9.32</td>\n",
              "      <td>37.279999</td>\n",
              "    </tr>\n",
              "    <tr>\n",
              "      <th>180504</th>\n",
              "      <td>116180</td>\n",
              "      <td>93357</td>\n",
              "      <td>F</td>\n",
              "      <td>Complete</td>\n",
              "      <td>2022-03-14 10:48:55+00:00</td>\n",
              "      <td>2022-03-16 03:56:00+00:00</td>\n",
              "      <td>2022-03-18 05:36:00+00:00</td>\n",
              "      <td>NaN</td>\n",
              "      <td>3</td>\n",
              "      <td>9.32</td>\n",
              "      <td>27.959999</td>\n",
              "    </tr>\n",
              "    <tr>\n",
              "      <th>180506</th>\n",
              "      <td>92879</td>\n",
              "      <td>74538</td>\n",
              "      <td>F</td>\n",
              "      <td>Processing</td>\n",
              "      <td>2021-12-13 05:53:52+00:00</td>\n",
              "      <td>NaN</td>\n",
              "      <td>NaN</td>\n",
              "      <td>NaN</td>\n",
              "      <td>4</td>\n",
              "      <td>9.32</td>\n",
              "      <td>37.279999</td>\n",
              "    </tr>\n",
              "    <tr>\n",
              "      <th>180507</th>\n",
              "      <td>58830</td>\n",
              "      <td>47366</td>\n",
              "      <td>F</td>\n",
              "      <td>Complete</td>\n",
              "      <td>2019-03-04 12:43:19+00:00</td>\n",
              "      <td>2019-03-01 15:24:00+00:00</td>\n",
              "      <td>2019-03-03 05:05:00+00:00</td>\n",
              "      <td>NaN</td>\n",
              "      <td>2</td>\n",
              "      <td>9.82</td>\n",
              "      <td>19.639999</td>\n",
              "    </tr>\n",
              "  </tbody>\n",
              "</table>\n",
              "<p>153727 rows × 11 columns</p>\n",
              "</div>\n",
              "      <button class=\"colab-df-convert\" onclick=\"convertToInteractive('df-b585688b-5969-417f-8ea4-1d6294738905')\"\n",
              "              title=\"Convert this dataframe to an interactive table.\"\n",
              "              style=\"display:none;\">\n",
              "        \n",
              "  <svg xmlns=\"http://www.w3.org/2000/svg\" height=\"24px\"viewBox=\"0 0 24 24\"\n",
              "       width=\"24px\">\n",
              "    <path d=\"M0 0h24v24H0V0z\" fill=\"none\"/>\n",
              "    <path d=\"M18.56 5.44l.94 2.06.94-2.06 2.06-.94-2.06-.94-.94-2.06-.94 2.06-2.06.94zm-11 1L8.5 8.5l.94-2.06 2.06-.94-2.06-.94L8.5 2.5l-.94 2.06-2.06.94zm10 10l.94 2.06.94-2.06 2.06-.94-2.06-.94-.94-2.06-.94 2.06-2.06.94z\"/><path d=\"M17.41 7.96l-1.37-1.37c-.4-.4-.92-.59-1.43-.59-.52 0-1.04.2-1.43.59L10.3 9.45l-7.72 7.72c-.78.78-.78 2.05 0 2.83L4 21.41c.39.39.9.59 1.41.59.51 0 1.02-.2 1.41-.59l7.78-7.78 2.81-2.81c.8-.78.8-2.07 0-2.86zM5.41 20L4 18.59l7.72-7.72 1.47 1.35L5.41 20z\"/>\n",
              "  </svg>\n",
              "      </button>\n",
              "      \n",
              "  <style>\n",
              "    .colab-df-container {\n",
              "      display:flex;\n",
              "      flex-wrap:wrap;\n",
              "      gap: 12px;\n",
              "    }\n",
              "\n",
              "    .colab-df-convert {\n",
              "      background-color: #E8F0FE;\n",
              "      border: none;\n",
              "      border-radius: 50%;\n",
              "      cursor: pointer;\n",
              "      display: none;\n",
              "      fill: #1967D2;\n",
              "      height: 32px;\n",
              "      padding: 0 0 0 0;\n",
              "      width: 32px;\n",
              "    }\n",
              "\n",
              "    .colab-df-convert:hover {\n",
              "      background-color: #E2EBFA;\n",
              "      box-shadow: 0px 1px 2px rgba(60, 64, 67, 0.3), 0px 1px 3px 1px rgba(60, 64, 67, 0.15);\n",
              "      fill: #174EA6;\n",
              "    }\n",
              "\n",
              "    [theme=dark] .colab-df-convert {\n",
              "      background-color: #3B4455;\n",
              "      fill: #D2E3FC;\n",
              "    }\n",
              "\n",
              "    [theme=dark] .colab-df-convert:hover {\n",
              "      background-color: #434B5C;\n",
              "      box-shadow: 0px 1px 3px 1px rgba(0, 0, 0, 0.15);\n",
              "      filter: drop-shadow(0px 1px 2px rgba(0, 0, 0, 0.3));\n",
              "      fill: #FFFFFF;\n",
              "    }\n",
              "  </style>\n",
              "\n",
              "      <script>\n",
              "        const buttonEl =\n",
              "          document.querySelector('#df-b585688b-5969-417f-8ea4-1d6294738905 button.colab-df-convert');\n",
              "        buttonEl.style.display =\n",
              "          google.colab.kernel.accessAllowed ? 'block' : 'none';\n",
              "\n",
              "        async function convertToInteractive(key) {\n",
              "          const element = document.querySelector('#df-b585688b-5969-417f-8ea4-1d6294738905');\n",
              "          const dataTable =\n",
              "            await google.colab.kernel.invokeFunction('convertToInteractive',\n",
              "                                                     [key], {});\n",
              "          if (!dataTable) return;\n",
              "\n",
              "          const docLinkHtml = 'Like what you see? Visit the ' +\n",
              "            '<a target=\"_blank\" href=https://colab.research.google.com/notebooks/data_table.ipynb>data table notebook</a>'\n",
              "            + ' to learn more about interactive tables.';\n",
              "          element.innerHTML = '';\n",
              "          dataTable['output_type'] = 'display_data';\n",
              "          await google.colab.output.renderOutput(dataTable, element);\n",
              "          const docLink = document.createElement('div');\n",
              "          docLink.innerHTML = docLinkHtml;\n",
              "          element.appendChild(docLink);\n",
              "        }\n",
              "      </script>\n",
              "    </div>\n",
              "  </div>\n",
              "  "
            ]
          },
          "metadata": {},
          "execution_count": 10
        }
      ]
    },
    {
      "cell_type": "code",
      "source": [
        "df_f['created_at']=pd.to_datetime(df_f['created_at'],errors='coerce').dt.strftime('%Y-%m')\n",
        "df_f['shipped_at']=pd.to_datetime(df_f['shipped_at'],errors='coerce').dt.strftime('%Y-%m')\n",
        "df_f['delivered_at']=pd.to_datetime(df_f['delivered_at'],errors='coerce').dt.strftime('%Y-%m')\n",
        "df_f.dtypes"
      ],
      "metadata": {
        "colab": {
          "base_uri": "https://localhost:8080/"
        },
        "id": "9FO37yKzx79z",
        "outputId": "160ca0ff-63bb-40ad-9f81-7ffb5abef8eb"
      },
      "execution_count": 13,
      "outputs": [
        {
          "output_type": "execute_result",
          "data": {
            "text/plain": [
              "gender           object\n",
              "status           object\n",
              "created_at       object\n",
              "shipped_at       object\n",
              "delivered_at     object\n",
              "num_of_item       int64\n",
              "sale_price      float64\n",
              "sale            float64\n",
              "dtype: object"
            ]
          },
          "metadata": {},
          "execution_count": 13
        }
      ]
    },
    {
      "cell_type": "code",
      "source": [
        "df_f"
      ],
      "metadata": {
        "colab": {
          "base_uri": "https://localhost:8080/",
          "height": 424
        },
        "id": "HCP8dj_w1G_k",
        "outputId": "ddbfba7b-c042-45d4-a0a6-2b56aae73a22"
      },
      "execution_count": 14,
      "outputs": [
        {
          "output_type": "execute_result",
          "data": {
            "text/plain": [
              "      gender    status created_at shipped_at delivered_at  num_of_item  \\\n",
              "0          M  Complete    2019-01    2019-01      2019-01            2   \n",
              "1          M  Complete    2019-01    2019-01      2019-01            2   \n",
              "2          M  Complete    2019-01    2019-01      2019-01            2   \n",
              "3          M  Complete    2019-01    2019-01      2019-01            1   \n",
              "4          M  Complete    2019-01    2019-01      2019-01            1   \n",
              "...      ...       ...        ...        ...          ...          ...   \n",
              "45278      F  Complete    2022-06    2022-06      2022-06            4   \n",
              "45279      F  Complete    2022-06    2022-06      2022-06            4   \n",
              "45280      F  Complete    2022-06    2022-06      2022-06            4   \n",
              "45281      M  Complete    2022-06    2022-06      2022-06            2   \n",
              "45282      F  Complete    2022-06    2022-06      2022-06            2   \n",
              "\n",
              "       sale_price        sale  \n",
              "0       79.949997  159.899994  \n",
              "1       18.000000   36.000000  \n",
              "2       46.619999   93.239998  \n",
              "3       22.000000   22.000000  \n",
              "4       74.500000   74.500000  \n",
              "...           ...         ...  \n",
              "45278   50.000000  200.000000  \n",
              "45279   45.000000  180.000000  \n",
              "45280   39.500000  158.000000  \n",
              "45281   40.599998   81.199997  \n",
              "45282   12.990000   25.980000  \n",
              "\n",
              "[45283 rows x 8 columns]"
            ],
            "text/html": [
              "\n",
              "  <div id=\"df-17d074d3-eaff-457b-8189-56b06d253a1f\">\n",
              "    <div class=\"colab-df-container\">\n",
              "      <div>\n",
              "<style scoped>\n",
              "    .dataframe tbody tr th:only-of-type {\n",
              "        vertical-align: middle;\n",
              "    }\n",
              "\n",
              "    .dataframe tbody tr th {\n",
              "        vertical-align: top;\n",
              "    }\n",
              "\n",
              "    .dataframe thead th {\n",
              "        text-align: right;\n",
              "    }\n",
              "</style>\n",
              "<table border=\"1\" class=\"dataframe\">\n",
              "  <thead>\n",
              "    <tr style=\"text-align: right;\">\n",
              "      <th></th>\n",
              "      <th>gender</th>\n",
              "      <th>status</th>\n",
              "      <th>created_at</th>\n",
              "      <th>shipped_at</th>\n",
              "      <th>delivered_at</th>\n",
              "      <th>num_of_item</th>\n",
              "      <th>sale_price</th>\n",
              "      <th>sale</th>\n",
              "    </tr>\n",
              "  </thead>\n",
              "  <tbody>\n",
              "    <tr>\n",
              "      <th>0</th>\n",
              "      <td>M</td>\n",
              "      <td>Complete</td>\n",
              "      <td>2019-01</td>\n",
              "      <td>2019-01</td>\n",
              "      <td>2019-01</td>\n",
              "      <td>2</td>\n",
              "      <td>79.949997</td>\n",
              "      <td>159.899994</td>\n",
              "    </tr>\n",
              "    <tr>\n",
              "      <th>1</th>\n",
              "      <td>M</td>\n",
              "      <td>Complete</td>\n",
              "      <td>2019-01</td>\n",
              "      <td>2019-01</td>\n",
              "      <td>2019-01</td>\n",
              "      <td>2</td>\n",
              "      <td>18.000000</td>\n",
              "      <td>36.000000</td>\n",
              "    </tr>\n",
              "    <tr>\n",
              "      <th>2</th>\n",
              "      <td>M</td>\n",
              "      <td>Complete</td>\n",
              "      <td>2019-01</td>\n",
              "      <td>2019-01</td>\n",
              "      <td>2019-01</td>\n",
              "      <td>2</td>\n",
              "      <td>46.619999</td>\n",
              "      <td>93.239998</td>\n",
              "    </tr>\n",
              "    <tr>\n",
              "      <th>3</th>\n",
              "      <td>M</td>\n",
              "      <td>Complete</td>\n",
              "      <td>2019-01</td>\n",
              "      <td>2019-01</td>\n",
              "      <td>2019-01</td>\n",
              "      <td>1</td>\n",
              "      <td>22.000000</td>\n",
              "      <td>22.000000</td>\n",
              "    </tr>\n",
              "    <tr>\n",
              "      <th>4</th>\n",
              "      <td>M</td>\n",
              "      <td>Complete</td>\n",
              "      <td>2019-01</td>\n",
              "      <td>2019-01</td>\n",
              "      <td>2019-01</td>\n",
              "      <td>1</td>\n",
              "      <td>74.500000</td>\n",
              "      <td>74.500000</td>\n",
              "    </tr>\n",
              "    <tr>\n",
              "      <th>...</th>\n",
              "      <td>...</td>\n",
              "      <td>...</td>\n",
              "      <td>...</td>\n",
              "      <td>...</td>\n",
              "      <td>...</td>\n",
              "      <td>...</td>\n",
              "      <td>...</td>\n",
              "      <td>...</td>\n",
              "    </tr>\n",
              "    <tr>\n",
              "      <th>45278</th>\n",
              "      <td>F</td>\n",
              "      <td>Complete</td>\n",
              "      <td>2022-06</td>\n",
              "      <td>2022-06</td>\n",
              "      <td>2022-06</td>\n",
              "      <td>4</td>\n",
              "      <td>50.000000</td>\n",
              "      <td>200.000000</td>\n",
              "    </tr>\n",
              "    <tr>\n",
              "      <th>45279</th>\n",
              "      <td>F</td>\n",
              "      <td>Complete</td>\n",
              "      <td>2022-06</td>\n",
              "      <td>2022-06</td>\n",
              "      <td>2022-06</td>\n",
              "      <td>4</td>\n",
              "      <td>45.000000</td>\n",
              "      <td>180.000000</td>\n",
              "    </tr>\n",
              "    <tr>\n",
              "      <th>45280</th>\n",
              "      <td>F</td>\n",
              "      <td>Complete</td>\n",
              "      <td>2022-06</td>\n",
              "      <td>2022-06</td>\n",
              "      <td>2022-06</td>\n",
              "      <td>4</td>\n",
              "      <td>39.500000</td>\n",
              "      <td>158.000000</td>\n",
              "    </tr>\n",
              "    <tr>\n",
              "      <th>45281</th>\n",
              "      <td>M</td>\n",
              "      <td>Complete</td>\n",
              "      <td>2022-06</td>\n",
              "      <td>2022-06</td>\n",
              "      <td>2022-06</td>\n",
              "      <td>2</td>\n",
              "      <td>40.599998</td>\n",
              "      <td>81.199997</td>\n",
              "    </tr>\n",
              "    <tr>\n",
              "      <th>45282</th>\n",
              "      <td>F</td>\n",
              "      <td>Complete</td>\n",
              "      <td>2022-06</td>\n",
              "      <td>2022-06</td>\n",
              "      <td>2022-06</td>\n",
              "      <td>2</td>\n",
              "      <td>12.990000</td>\n",
              "      <td>25.980000</td>\n",
              "    </tr>\n",
              "  </tbody>\n",
              "</table>\n",
              "<p>45283 rows × 8 columns</p>\n",
              "</div>\n",
              "      <button class=\"colab-df-convert\" onclick=\"convertToInteractive('df-17d074d3-eaff-457b-8189-56b06d253a1f')\"\n",
              "              title=\"Convert this dataframe to an interactive table.\"\n",
              "              style=\"display:none;\">\n",
              "        \n",
              "  <svg xmlns=\"http://www.w3.org/2000/svg\" height=\"24px\"viewBox=\"0 0 24 24\"\n",
              "       width=\"24px\">\n",
              "    <path d=\"M0 0h24v24H0V0z\" fill=\"none\"/>\n",
              "    <path d=\"M18.56 5.44l.94 2.06.94-2.06 2.06-.94-2.06-.94-.94-2.06-.94 2.06-2.06.94zm-11 1L8.5 8.5l.94-2.06 2.06-.94-2.06-.94L8.5 2.5l-.94 2.06-2.06.94zm10 10l.94 2.06.94-2.06 2.06-.94-2.06-.94-.94-2.06-.94 2.06-2.06.94z\"/><path d=\"M17.41 7.96l-1.37-1.37c-.4-.4-.92-.59-1.43-.59-.52 0-1.04.2-1.43.59L10.3 9.45l-7.72 7.72c-.78.78-.78 2.05 0 2.83L4 21.41c.39.39.9.59 1.41.59.51 0 1.02-.2 1.41-.59l7.78-7.78 2.81-2.81c.8-.78.8-2.07 0-2.86zM5.41 20L4 18.59l7.72-7.72 1.47 1.35L5.41 20z\"/>\n",
              "  </svg>\n",
              "      </button>\n",
              "      \n",
              "  <style>\n",
              "    .colab-df-container {\n",
              "      display:flex;\n",
              "      flex-wrap:wrap;\n",
              "      gap: 12px;\n",
              "    }\n",
              "\n",
              "    .colab-df-convert {\n",
              "      background-color: #E8F0FE;\n",
              "      border: none;\n",
              "      border-radius: 50%;\n",
              "      cursor: pointer;\n",
              "      display: none;\n",
              "      fill: #1967D2;\n",
              "      height: 32px;\n",
              "      padding: 0 0 0 0;\n",
              "      width: 32px;\n",
              "    }\n",
              "\n",
              "    .colab-df-convert:hover {\n",
              "      background-color: #E2EBFA;\n",
              "      box-shadow: 0px 1px 2px rgba(60, 64, 67, 0.3), 0px 1px 3px 1px rgba(60, 64, 67, 0.15);\n",
              "      fill: #174EA6;\n",
              "    }\n",
              "\n",
              "    [theme=dark] .colab-df-convert {\n",
              "      background-color: #3B4455;\n",
              "      fill: #D2E3FC;\n",
              "    }\n",
              "\n",
              "    [theme=dark] .colab-df-convert:hover {\n",
              "      background-color: #434B5C;\n",
              "      box-shadow: 0px 1px 3px 1px rgba(0, 0, 0, 0.15);\n",
              "      filter: drop-shadow(0px 1px 2px rgba(0, 0, 0, 0.3));\n",
              "      fill: #FFFFFF;\n",
              "    }\n",
              "  </style>\n",
              "\n",
              "      <script>\n",
              "        const buttonEl =\n",
              "          document.querySelector('#df-17d074d3-eaff-457b-8189-56b06d253a1f button.colab-df-convert');\n",
              "        buttonEl.style.display =\n",
              "          google.colab.kernel.accessAllowed ? 'block' : 'none';\n",
              "\n",
              "        async function convertToInteractive(key) {\n",
              "          const element = document.querySelector('#df-17d074d3-eaff-457b-8189-56b06d253a1f');\n",
              "          const dataTable =\n",
              "            await google.colab.kernel.invokeFunction('convertToInteractive',\n",
              "                                                     [key], {});\n",
              "          if (!dataTable) return;\n",
              "\n",
              "          const docLinkHtml = 'Like what you see? Visit the ' +\n",
              "            '<a target=\"_blank\" href=https://colab.research.google.com/notebooks/data_table.ipynb>data table notebook</a>'\n",
              "            + ' to learn more about interactive tables.';\n",
              "          element.innerHTML = '';\n",
              "          dataTable['output_type'] = 'display_data';\n",
              "          await google.colab.output.renderOutput(dataTable, element);\n",
              "          const docLink = document.createElement('div');\n",
              "          docLink.innerHTML = docLinkHtml;\n",
              "          element.appendChild(docLink);\n",
              "        }\n",
              "      </script>\n",
              "    </div>\n",
              "  </div>\n",
              "  "
            ]
          },
          "metadata": {},
          "execution_count": 14
        }
      ]
    },
    {
      "cell_type": "markdown",
      "source": [
        "### missing value check"
      ],
      "metadata": {
        "id": "gbm2wJWCq3QB"
      }
    },
    {
      "cell_type": "code",
      "source": [
        "df_f.dtypes"
      ],
      "metadata": {
        "colab": {
          "base_uri": "https://localhost:8080/"
        },
        "id": "lVHuqnOOXy7S",
        "outputId": "b410ae7d-1ba1-4034-fdcc-c9bdbdf833b3"
      },
      "execution_count": 11,
      "outputs": [
        {
          "output_type": "execute_result",
          "data": {
            "text/plain": [
              "gender           object\n",
              "status           object\n",
              "created_at       object\n",
              "shipped_at       object\n",
              "delivered_at     object\n",
              "num_of_item       int64\n",
              "sale_price      float64\n",
              "sale            float64\n",
              "dtype: object"
            ]
          },
          "metadata": {},
          "execution_count": 11
        }
      ]
    },
    {
      "cell_type": "code",
      "source": [
        "df_f.isnull().sum()"
      ],
      "metadata": {
        "colab": {
          "base_uri": "https://localhost:8080/"
        },
        "id": "wY4b66SZyKpw",
        "outputId": "3583b6c4-fff7-4a04-96b2-848d6a01faa2"
      },
      "execution_count": 12,
      "outputs": [
        {
          "output_type": "execute_result",
          "data": {
            "text/plain": [
              "gender          0\n",
              "status          0\n",
              "created_at      0\n",
              "shipped_at      0\n",
              "delivered_at    0\n",
              "num_of_item     0\n",
              "sale_price      0\n",
              "sale            0\n",
              "dtype: int64"
            ]
          },
          "metadata": {},
          "execution_count": 12
        }
      ]
    },
    {
      "cell_type": "markdown",
      "source": [
        "### Exploratory Data Analysis"
      ],
      "metadata": {
        "id": "-faJ3FRPMVV2"
      }
    },
    {
      "cell_type": "markdown",
      "source": [
        ""
      ],
      "metadata": {
        "id": "ckTVX2l8MTH0"
      }
    },
    {
      "cell_type": "code",
      "source": [
        "df_p['user_id'].value_counts()"
      ],
      "metadata": {
        "colab": {
          "base_uri": "https://localhost:8080/"
        },
        "id": "LDZ2AEvbRLX7",
        "outputId": "19615aec-d73c-425e-fa1b-a74850f45ac8"
      },
      "execution_count": 13,
      "outputs": [
        {
          "output_type": "execute_result",
          "data": {
            "text/plain": [
              "85684    13\n",
              "78759    12\n",
              "33176    12\n",
              "370      12\n",
              "12672    12\n",
              "         ..\n",
              "56340     1\n",
              "64521     1\n",
              "70062     1\n",
              "76041     1\n",
              "91134     1\n",
              "Name: user_id, Length: 72171, dtype: int64"
            ]
          },
          "metadata": {},
          "execution_count": 13
        }
      ]
    },
    {
      "cell_type": "code",
      "source": [
        "df_p['gender'].value_counts()"
      ],
      "metadata": {
        "id": "dygQ8wkepxEl",
        "colab": {
          "base_uri": "https://localhost:8080/"
        },
        "outputId": "16fc79e0-aaaa-4b15-f56a-6a3fe5916c74"
      },
      "execution_count": 14,
      "outputs": [
        {
          "output_type": "execute_result",
          "data": {
            "text/plain": [
              "M    77079\n",
              "F    76648\n",
              "Name: gender, dtype: int64"
            ]
          },
          "metadata": {},
          "execution_count": 14
        }
      ]
    },
    {
      "cell_type": "code",
      "source": [
        "df_p['status'].value_counts()"
      ],
      "metadata": {
        "colab": {
          "base_uri": "https://localhost:8080/"
        },
        "id": "6qYCPh59jx0E",
        "outputId": "08338e44-9f01-4ca0-a233-06b8b1688c0f"
      },
      "execution_count": 15,
      "outputs": [
        {
          "output_type": "execute_result",
          "data": {
            "text/plain": [
              "Shipped       54467\n",
              "Complete      45283\n",
              "Processing    36225\n",
              "Returned      17752\n",
              "Name: status, dtype: int64"
            ]
          },
          "metadata": {},
          "execution_count": 15
        }
      ]
    },
    {
      "cell_type": "code",
      "source": [
        "# plotting the distribution of price\n",
        "plt.figure(figsize=(7,5))\n",
        "sns.countplot(x='status', data=df_p)\n",
        "plt.title('distribusi status produk')\n",
        "plt.xlabel('status')"
      ],
      "metadata": {
        "colab": {
          "base_uri": "https://localhost:8080/",
          "height": 401
        },
        "id": "DkZeCGyJoDQp",
        "outputId": "2d6d27b1-7102-4c07-d54c-b3ff17e1db6c"
      },
      "execution_count": 16,
      "outputs": [
        {
          "output_type": "execute_result",
          "data": {
            "text/plain": [
              "Text(0.5, 0, 'status')"
            ]
          },
          "metadata": {},
          "execution_count": 16
        },
        {
          "output_type": "display_data",
          "data": {
            "text/plain": [
              "<Figure size 504x360 with 1 Axes>"
            ],
            "image/png": "[encoded data removed]"
          },
          "metadata": {}
        }
      ]
    },
    {
      "cell_type": "code",
      "source": [
        "df_p['sale_price'].value_counts()"
      ],
      "metadata": {
        "colab": {
          "base_uri": "https://localhost:8080/"
        },
        "id": "xylXFffmNJrk",
        "outputId": "ab7c2a38-b566-42fc-dbb8-752b62284a3c"
      },
      "execution_count": 17,
      "outputs": [
        {
          "output_type": "execute_result",
          "data": {
            "text/plain": [
              "25.000000    5908\n",
              "29.990000    2223\n",
              "19.990000    2013\n",
              "39.990002    1900\n",
              "49.990002    1461\n",
              "             ... \n",
              "46.880001       1\n",
              "12.570000       1\n",
              "52.330002       1\n",
              "96.989998       1\n",
              "65.750000       1\n",
              "Name: sale_price, Length: 4179, dtype: int64"
            ]
          },
          "metadata": {},
          "execution_count": 17
        }
      ]
    },
    {
      "cell_type": "code",
      "source": [
        "#melihat statistika dasar pada variabel harga jual/sale_price \n",
        "df_p[['sale_price']].describe()"
      ],
      "metadata": {
        "colab": {
          "base_uri": "https://localhost:8080/",
          "height": 300
        },
        "id": "qOhnBixo7fn3",
        "outputId": "2125a54e-736a-4d4f-be46-78fe44b1c96b"
      },
      "execution_count": 18,
      "outputs": [
        {
          "output_type": "execute_result",
          "data": {
            "text/plain": [
              "          sale_price\n",
              "count  153727.000000\n",
              "mean       59.825846\n",
              "std        66.063052\n",
              "min         0.020000\n",
              "25%        24.850000\n",
              "50%        39.990002\n",
              "75%        69.949997\n",
              "max       999.000000"
            ],
            "text/html": [
              "\n",
              "  <div id=\"df-c2458910-af49-426d-b905-548c7a6e66f1\">\n",
              "    <div class=\"colab-df-container\">\n",
              "      <div>\n",
              "<style scoped>\n",
              "    .dataframe tbody tr th:only-of-type {\n",
              "        vertical-align: middle;\n",
              "    }\n",
              "\n",
              "    .dataframe tbody tr th {\n",
              "        vertical-align: top;\n",
              "    }\n",
              "\n",
              "    .dataframe thead th {\n",
              "        text-align: right;\n",
              "    }\n",
              "</style>\n",
              "<table border=\"1\" class=\"dataframe\">\n",
              "  <thead>\n",
              "    <tr style=\"text-align: right;\">\n",
              "      <th></th>\n",
              "      <th>sale_price</th>\n",
              "    </tr>\n",
              "  </thead>\n",
              "  <tbody>\n",
              "    <tr>\n",
              "      <th>count</th>\n",
              "      <td>153727.000000</td>\n",
              "    </tr>\n",
              "    <tr>\n",
              "      <th>mean</th>\n",
              "      <td>59.825846</td>\n",
              "    </tr>\n",
              "    <tr>\n",
              "      <th>std</th>\n",
              "      <td>66.063052</td>\n",
              "    </tr>\n",
              "    <tr>\n",
              "      <th>min</th>\n",
              "      <td>0.020000</td>\n",
              "    </tr>\n",
              "    <tr>\n",
              "      <th>25%</th>\n",
              "      <td>24.850000</td>\n",
              "    </tr>\n",
              "    <tr>\n",
              "      <th>50%</th>\n",
              "      <td>39.990002</td>\n",
              "    </tr>\n",
              "    <tr>\n",
              "      <th>75%</th>\n",
              "      <td>69.949997</td>\n",
              "    </tr>\n",
              "    <tr>\n",
              "      <th>max</th>\n",
              "      <td>999.000000</td>\n",
              "    </tr>\n",
              "  </tbody>\n",
              "</table>\n",
              "</div>\n",
              "      <button class=\"colab-df-convert\" onclick=\"convertToInteractive('df-c2458910-af49-426d-b905-548c7a6e66f1')\"\n",
              "              title=\"Convert this dataframe to an interactive table.\"\n",
              "              style=\"display:none;\">\n",
              "        \n",
              "  <svg xmlns=\"http://www.w3.org/2000/svg\" height=\"24px\"viewBox=\"0 0 24 24\"\n",
              "       width=\"24px\">\n",
              "    <path d=\"M0 0h24v24H0V0z\" fill=\"none\"/>\n",
              "    <path d=\"M18.56 5.44l.94 2.06.94-2.06 2.06-.94-2.06-.94-.94-2.06-.94 2.06-2.06.94zm-11 1L8.5 8.5l.94-2.06 2.06-.94-2.06-.94L8.5 2.5l-.94 2.06-2.06.94zm10 10l.94 2.06.94-2.06 2.06-.94-2.06-.94-.94-2.06-.94 2.06-2.06.94z\"/><path d=\"M17.41 7.96l-1.37-1.37c-.4-.4-.92-.59-1.43-.59-.52 0-1.04.2-1.43.59L10.3 9.45l-7.72 7.72c-.78.78-.78 2.05 0 2.83L4 21.41c.39.39.9.59 1.41.59.51 0 1.02-.2 1.41-.59l7.78-7.78 2.81-2.81c.8-.78.8-2.07 0-2.86zM5.41 20L4 18.59l7.72-7.72 1.47 1.35L5.41 20z\"/>\n",
              "  </svg>\n",
              "      </button>\n",
              "      \n",
              "  <style>\n",
              "    .colab-df-container {\n",
              "      display:flex;\n",
              "      flex-wrap:wrap;\n",
              "      gap: 12px;\n",
              "    }\n",
              "\n",
              "    .colab-df-convert {\n",
              "      background-color: #E8F0FE;\n",
              "      border: none;\n",
              "      border-radius: 50%;\n",
              "      cursor: pointer;\n",
              "      display: none;\n",
              "      fill: #1967D2;\n",
              "      height: 32px;\n",
              "      padding: 0 0 0 0;\n",
              "      width: 32px;\n",
              "    }\n",
              "\n",
              "    .colab-df-convert:hover {\n",
              "      background-color: #E2EBFA;\n",
              "      box-shadow: 0px 1px 2px rgba(60, 64, 67, 0.3), 0px 1px 3px 1px rgba(60, 64, 67, 0.15);\n",
              "      fill: #174EA6;\n",
              "    }\n",
              "\n",
              "    [theme=dark] .colab-df-convert {\n",
              "      background-color: #3B4455;\n",
              "      fill: #D2E3FC;\n",
              "    }\n",
              "\n",
              "    [theme=dark] .colab-df-convert:hover {\n",
              "      background-color: #434B5C;\n",
              "      box-shadow: 0px 1px 3px 1px rgba(0, 0, 0, 0.15);\n",
              "      filter: drop-shadow(0px 1px 2px rgba(0, 0, 0, 0.3));\n",
              "      fill: #FFFFFF;\n",
              "    }\n",
              "  </style>\n",
              "\n",
              "      <script>\n",
              "        const buttonEl =\n",
              "          document.querySelector('#df-c2458910-af49-426d-b905-548c7a6e66f1 button.colab-df-convert');\n",
              "        buttonEl.style.display =\n",
              "          google.colab.kernel.accessAllowed ? 'block' : 'none';\n",
              "\n",
              "        async function convertToInteractive(key) {\n",
              "          const element = document.querySelector('#df-c2458910-af49-426d-b905-548c7a6e66f1');\n",
              "          const dataTable =\n",
              "            await google.colab.kernel.invokeFunction('convertToInteractive',\n",
              "                                                     [key], {});\n",
              "          if (!dataTable) return;\n",
              "\n",
              "          const docLinkHtml = 'Like what you see? Visit the ' +\n",
              "            '<a target=\"_blank\" href=https://colab.research.google.com/notebooks/data_table.ipynb>data table notebook</a>'\n",
              "            + ' to learn more about interactive tables.';\n",
              "          element.innerHTML = '';\n",
              "          dataTable['output_type'] = 'display_data';\n",
              "          await google.colab.output.renderOutput(dataTable, element);\n",
              "          const docLink = document.createElement('div');\n",
              "          docLink.innerHTML = docLinkHtml;\n",
              "          element.appendChild(docLink);\n",
              "        }\n",
              "      </script>\n",
              "    </div>\n",
              "  </div>\n",
              "  "
            ]
          },
          "metadata": {},
          "execution_count": 18
        }
      ]
    },
    {
      "cell_type": "code",
      "source": [
        "df_p[['sale']].describe()"
      ],
      "metadata": {
        "colab": {
          "base_uri": "https://localhost:8080/",
          "height": 300
        },
        "id": "vM45VJpbpsuv",
        "outputId": "2371e8e2-7f86-4691-c74b-f8287b250108"
      },
      "execution_count": 19,
      "outputs": [
        {
          "output_type": "execute_result",
          "data": {
            "text/plain": [
              "                sale\n",
              "count  153727.000000\n",
              "mean      113.450811\n",
              "std       155.553713\n",
              "min         0.020000\n",
              "25%        34.000000\n",
              "50%        65.800003\n",
              "75%       133.529999\n",
              "max      3996.000000"
            ],
            "text/html": [
              "\n",
              "  <div id=\"df-33bd03fb-c18d-4df1-b81f-ac5295417625\">\n",
              "    <div class=\"colab-df-container\">\n",
              "      <div>\n",
              "<style scoped>\n",
              "    .dataframe tbody tr th:only-of-type {\n",
              "        vertical-align: middle;\n",
              "    }\n",
              "\n",
              "    .dataframe tbody tr th {\n",
              "        vertical-align: top;\n",
              "    }\n",
              "\n",
              "    .dataframe thead th {\n",
              "        text-align: right;\n",
              "    }\n",
              "</style>\n",
              "<table border=\"1\" class=\"dataframe\">\n",
              "  <thead>\n",
              "    <tr style=\"text-align: right;\">\n",
              "      <th></th>\n",
              "      <th>sale</th>\n",
              "    </tr>\n",
              "  </thead>\n",
              "  <tbody>\n",
              "    <tr>\n",
              "      <th>count</th>\n",
              "      <td>153727.000000</td>\n",
              "    </tr>\n",
              "    <tr>\n",
              "      <th>mean</th>\n",
              "      <td>113.450811</td>\n",
              "    </tr>\n",
              "    <tr>\n",
              "      <th>std</th>\n",
              "      <td>155.553713</td>\n",
              "    </tr>\n",
              "    <tr>\n",
              "      <th>min</th>\n",
              "      <td>0.020000</td>\n",
              "    </tr>\n",
              "    <tr>\n",
              "      <th>25%</th>\n",
              "      <td>34.000000</td>\n",
              "    </tr>\n",
              "    <tr>\n",
              "      <th>50%</th>\n",
              "      <td>65.800003</td>\n",
              "    </tr>\n",
              "    <tr>\n",
              "      <th>75%</th>\n",
              "      <td>133.529999</td>\n",
              "    </tr>\n",
              "    <tr>\n",
              "      <th>max</th>\n",
              "      <td>3996.000000</td>\n",
              "    </tr>\n",
              "  </tbody>\n",
              "</table>\n",
              "</div>\n",
              "      <button class=\"colab-df-convert\" onclick=\"convertToInteractive('df-33bd03fb-c18d-4df1-b81f-ac5295417625')\"\n",
              "              title=\"Convert this dataframe to an interactive table.\"\n",
              "              style=\"display:none;\">\n",
              "        \n",
              "  <svg xmlns=\"http://www.w3.org/2000/svg\" height=\"24px\"viewBox=\"0 0 24 24\"\n",
              "       width=\"24px\">\n",
              "    <path d=\"M0 0h24v24H0V0z\" fill=\"none\"/>\n",
              "    <path d=\"M18.56 5.44l.94 2.06.94-2.06 2.06-.94-2.06-.94-.94-2.06-.94 2.06-2.06.94zm-11 1L8.5 8.5l.94-2.06 2.06-.94-2.06-.94L8.5 2.5l-.94 2.06-2.06.94zm10 10l.94 2.06.94-2.06 2.06-.94-2.06-.94-.94-2.06-.94 2.06-2.06.94z\"/><path d=\"M17.41 7.96l-1.37-1.37c-.4-.4-.92-.59-1.43-.59-.52 0-1.04.2-1.43.59L10.3 9.45l-7.72 7.72c-.78.78-.78 2.05 0 2.83L4 21.41c.39.39.9.59 1.41.59.51 0 1.02-.2 1.41-.59l7.78-7.78 2.81-2.81c.8-.78.8-2.07 0-2.86zM5.41 20L4 18.59l7.72-7.72 1.47 1.35L5.41 20z\"/>\n",
              "  </svg>\n",
              "      </button>\n",
              "      \n",
              "  <style>\n",
              "    .colab-df-container {\n",
              "      display:flex;\n",
              "      flex-wrap:wrap;\n",
              "      gap: 12px;\n",
              "    }\n",
              "\n",
              "    .colab-df-convert {\n",
              "      background-color: #E8F0FE;\n",
              "      border: none;\n",
              "      border-radius: 50%;\n",
              "      cursor: pointer;\n",
              "      display: none;\n",
              "      fill: #1967D2;\n",
              "      height: 32px;\n",
              "      padding: 0 0 0 0;\n",
              "      width: 32px;\n",
              "    }\n",
              "\n",
              "    .colab-df-convert:hover {\n",
              "      background-color: #E2EBFA;\n",
              "      box-shadow: 0px 1px 2px rgba(60, 64, 67, 0.3), 0px 1px 3px 1px rgba(60, 64, 67, 0.15);\n",
              "      fill: #174EA6;\n",
              "    }\n",
              "\n",
              "    [theme=dark] .colab-df-convert {\n",
              "      background-color: #3B4455;\n",
              "      fill: #D2E3FC;\n",
              "    }\n",
              "\n",
              "    [theme=dark] .colab-df-convert:hover {\n",
              "      background-color: #434B5C;\n",
              "      box-shadow: 0px 1px 3px 1px rgba(0, 0, 0, 0.15);\n",
              "      filter: drop-shadow(0px 1px 2px rgba(0, 0, 0, 0.3));\n",
              "      fill: #FFFFFF;\n",
              "    }\n",
              "  </style>\n",
              "\n",
              "      <script>\n",
              "        const buttonEl =\n",
              "          document.querySelector('#df-33bd03fb-c18d-4df1-b81f-ac5295417625 button.colab-df-convert');\n",
              "        buttonEl.style.display =\n",
              "          google.colab.kernel.accessAllowed ? 'block' : 'none';\n",
              "\n",
              "        async function convertToInteractive(key) {\n",
              "          const element = document.querySelector('#df-33bd03fb-c18d-4df1-b81f-ac5295417625');\n",
              "          const dataTable =\n",
              "            await google.colab.kernel.invokeFunction('convertToInteractive',\n",
              "                                                     [key], {});\n",
              "          if (!dataTable) return;\n",
              "\n",
              "          const docLinkHtml = 'Like what you see? Visit the ' +\n",
              "            '<a target=\"_blank\" href=https://colab.research.google.com/notebooks/data_table.ipynb>data table notebook</a>'\n",
              "            + ' to learn more about interactive tables.';\n",
              "          element.innerHTML = '';\n",
              "          dataTable['output_type'] = 'display_data';\n",
              "          await google.colab.output.renderOutput(dataTable, element);\n",
              "          const docLink = document.createElement('div');\n",
              "          docLink.innerHTML = docLinkHtml;\n",
              "          element.appendChild(docLink);\n",
              "        }\n",
              "      </script>\n",
              "    </div>\n",
              "  </div>\n",
              "  "
            ]
          },
          "metadata": {},
          "execution_count": 19
        }
      ]
    },
    {
      "cell_type": "code",
      "source": [
        ""
      ],
      "metadata": {
        "id": "Kgx8Ox9YSepF"
      },
      "execution_count": 19,
      "outputs": []
    },
    {
      "cell_type": "markdown",
      "source": [
        "**Categorical Description:** \n",
        "\n",
        "+ Most of the orders status are SHIPPED \n",
        "+ most user_id orders are 61518\n",
        "+ Top gender is MALE\n",
        "+ Most sale_price are $25.00"
      ],
      "metadata": {
        "id": "HZMxNvUHShW4"
      }
    },
    {
      "cell_type": "code",
      "source": [
        ""
      ],
      "metadata": {
        "id": "W7IvQFiztKoD"
      },
      "execution_count": 19,
      "outputs": []
    },
    {
      "cell_type": "markdown",
      "source": [
        "## 3 Data Visialization"
      ],
      "metadata": {
        "id": "SLm3GiUcR7tR"
      }
    },
    {
      "cell_type": "code",
      "source": [
        "# sale_price Density Distribution - Central Tendency. \n",
        "\n",
        "plt.figure(figsize = [12,10])\n",
        "sns.distplot(df_p['sale_price'], hist=True)\n",
        "plt.show()"
      ],
      "metadata": {
        "colab": {
          "base_uri": "https://localhost:8080/",
          "height": 710
        },
        "id": "qrQPxNBrRi4f",
        "outputId": "1f876f0b-8fab-49f1-d04c-97c6634d1c98"
      },
      "execution_count": 20,
      "outputs": [
        {
          "output_type": "stream",
          "name": "stderr",
          "text": [
            "/usr/local/lib/python3.7/dist-packages/seaborn/distributions.py:2619: FutureWarning: `distplot` is a deprecated function and will be removed in a future version. Please adapt your code to use either `displot` (a figure-level function with similar flexibility) or `histplot` (an axes-level function for histograms).\n",
            "  warnings.warn(msg, FutureWarning)\n"
          ]
        },
        {
          "output_type": "display_data",
          "data": {
            "text/plain": [
              "<Figure size 864x720 with 1 Axes>"
            ],
            "image/png": "[encoded data removed]"
          },
          "metadata": {}
        }
      ]
    },
    {
      "cell_type": "code",
      "source": [
        "plt.figure(figsize=[12,8])\n",
        "sns.distplot(df_p['sale'], rug=True, color = 'y')\n",
        "plt.xlim(0,1000)\n",
        "plt.xticks(range(0,1000,50))\n",
        "plt.show()"
      ],
      "metadata": {
        "colab": {
          "base_uri": "https://localhost:8080/",
          "height": 629
        },
        "id": "VJsEjgv2Dh5P",
        "outputId": "8c19ad55-2166-4fc0-f26c-4e9bd4bd9598"
      },
      "execution_count": 21,
      "outputs": [
        {
          "output_type": "stream",
          "name": "stderr",
          "text": [
            "/usr/local/lib/python3.7/dist-packages/seaborn/distributions.py:2619: FutureWarning: `distplot` is a deprecated function and will be removed in a future version. Please adapt your code to use either `displot` (a figure-level function with similar flexibility) or `histplot` (an axes-level function for histograms).\n",
            "  warnings.warn(msg, FutureWarning)\n",
            "/usr/local/lib/python3.7/dist-packages/seaborn/distributions.py:2103: FutureWarning: The `axis` variable is no longer used and will be removed. Instead, assign variables directly to `x` or `y`.\n",
            "  warnings.warn(msg, FutureWarning)\n"
          ]
        },
        {
          "output_type": "display_data",
          "data": {
            "text/plain": [
              "<Figure size 864x576 with 1 Axes>"
            ],
            "image/png": "[encoded data removed]"
          },
          "metadata": {}
        }
      ]
    },
    {
      "cell_type": "code",
      "source": [
        "# plotting the distribution of price\n",
        "plt.figure(figsize=(15,8))\n",
        "sns.histplot(x='sale_price', data=df_p)\n",
        "plt.title('Distribution of Price')\n",
        "plt.xlabel('Price')"
      ],
      "metadata": {
        "colab": {
          "base_uri": "https://localhost:8080/",
          "height": 576
        },
        "id": "-NP2CFfve82O",
        "outputId": "9d292308-aa20-41bf-cc2f-bd97dcb0d6ca"
      },
      "execution_count": 22,
      "outputs": [
        {
          "output_type": "execute_result",
          "data": {
            "text/plain": [
              "Text(0.5, 0, 'Price')"
            ]
          },
          "metadata": {},
          "execution_count": 22
        },
        {
          "output_type": "display_data",
          "data": {
            "text/plain": [
              "<Figure size 1080x576 with 1 Axes>"
            ],
            "image/png": "[encoded data removed]"
          },
          "metadata": {}
        }
      ]
    },
    {
      "cell_type": "code",
      "source": [
        "fig = plt.figure(figsize=(12,12))\n",
        "sns.boxplot(x=\"status\",y=\"sale\", data=df_p)\n",
        "plt.show()"
      ],
      "metadata": {
        "colab": {
          "base_uri": "https://localhost:8080/",
          "height": 770
        },
        "id": "GJkkZagLmEcY",
        "outputId": "cf9cea0c-fd23-418f-f086-b7126d6703d7"
      },
      "execution_count": 23,
      "outputs": [
        {
          "output_type": "display_data",
          "data": {
            "text/plain": [
              "<Figure size 864x864 with 1 Axes>"
            ],
            "image/png": "[encoded data removed]"
          },
          "metadata": {}
        }
      ]
    },
    {
      "cell_type": "code",
      "source": [
        "df_p.groupby(['sale'])[['status']].describe()"
      ],
      "metadata": {
        "id": "bWK0cdetUQrn",
        "colab": {
          "base_uri": "https://localhost:8080/",
          "height": 487
        },
        "outputId": "1d177c0a-08ec-4676-edc4-b3419f6c7b19"
      },
      "execution_count": 24,
      "outputs": [
        {
          "output_type": "execute_result",
          "data": {
            "text/plain": [
              "        status                        \n",
              "         count unique         top freq\n",
              "sale                                  \n",
              "0.02         2      2     Shipped    1\n",
              "0.04         2      2    Complete    1\n",
              "0.49         2      2    Complete    1\n",
              "0.98         2      2     Shipped    1\n",
              "1.47         1      1  Processing    1\n",
              "...        ...    ...         ...  ...\n",
              "3260.00      3      2     Shipped    2\n",
              "3592.00      1      1    Complete    1\n",
              "3612.00      9      3     Shipped    5\n",
              "3960.00      1      1  Processing    1\n",
              "3996.00      1      1  Processing    1\n",
              "\n",
              "[11017 rows x 4 columns]"
            ],
            "text/html": [
              "\n",
              "  <div id=\"df-38423a21-9e4d-4420-961e-a642423d248c\">\n",
              "    <div class=\"colab-df-container\">\n",
              "      <div>\n",
              "<style scoped>\n",
              "    .dataframe tbody tr th:only-of-type {\n",
              "        vertical-align: middle;\n",
              "    }\n",
              "\n",
              "    .dataframe tbody tr th {\n",
              "        vertical-align: top;\n",
              "    }\n",
              "\n",
              "    .dataframe thead tr th {\n",
              "        text-align: left;\n",
              "    }\n",
              "\n",
              "    .dataframe thead tr:last-of-type th {\n",
              "        text-align: right;\n",
              "    }\n",
              "</style>\n",
              "<table border=\"1\" class=\"dataframe\">\n",
              "  <thead>\n",
              "    <tr>\n",
              "      <th></th>\n",
              "      <th colspan=\"4\" halign=\"left\">status</th>\n",
              "    </tr>\n",
              "    <tr>\n",
              "      <th></th>\n",
              "      <th>count</th>\n",
              "      <th>unique</th>\n",
              "      <th>top</th>\n",
              "      <th>freq</th>\n",
              "    </tr>\n",
              "    <tr>\n",
              "      <th>sale</th>\n",
              "      <th></th>\n",
              "      <th></th>\n",
              "      <th></th>\n",
              "      <th></th>\n",
              "    </tr>\n",
              "  </thead>\n",
              "  <tbody>\n",
              "    <tr>\n",
              "      <th>0.02</th>\n",
              "      <td>2</td>\n",
              "      <td>2</td>\n",
              "      <td>Shipped</td>\n",
              "      <td>1</td>\n",
              "    </tr>\n",
              "    <tr>\n",
              "      <th>0.04</th>\n",
              "      <td>2</td>\n",
              "      <td>2</td>\n",
              "      <td>Complete</td>\n",
              "      <td>1</td>\n",
              "    </tr>\n",
              "    <tr>\n",
              "      <th>0.49</th>\n",
              "      <td>2</td>\n",
              "      <td>2</td>\n",
              "      <td>Complete</td>\n",
              "      <td>1</td>\n",
              "    </tr>\n",
              "    <tr>\n",
              "      <th>0.98</th>\n",
              "      <td>2</td>\n",
              "      <td>2</td>\n",
              "      <td>Shipped</td>\n",
              "      <td>1</td>\n",
              "    </tr>\n",
              "    <tr>\n",
              "      <th>1.47</th>\n",
              "      <td>1</td>\n",
              "      <td>1</td>\n",
              "      <td>Processing</td>\n",
              "      <td>1</td>\n",
              "    </tr>\n",
              "    <tr>\n",
              "      <th>...</th>\n",
              "      <td>...</td>\n",
              "      <td>...</td>\n",
              "      <td>...</td>\n",
              "      <td>...</td>\n",
              "    </tr>\n",
              "    <tr>\n",
              "      <th>3260.00</th>\n",
              "      <td>3</td>\n",
              "      <td>2</td>\n",
              "      <td>Shipped</td>\n",
              "      <td>2</td>\n",
              "    </tr>\n",
              "    <tr>\n",
              "      <th>3592.00</th>\n",
              "      <td>1</td>\n",
              "      <td>1</td>\n",
              "      <td>Complete</td>\n",
              "      <td>1</td>\n",
              "    </tr>\n",
              "    <tr>\n",
              "      <th>3612.00</th>\n",
              "      <td>9</td>\n",
              "      <td>3</td>\n",
              "      <td>Shipped</td>\n",
              "      <td>5</td>\n",
              "    </tr>\n",
              "    <tr>\n",
              "      <th>3960.00</th>\n",
              "      <td>1</td>\n",
              "      <td>1</td>\n",
              "      <td>Processing</td>\n",
              "      <td>1</td>\n",
              "    </tr>\n",
              "    <tr>\n",
              "      <th>3996.00</th>\n",
              "      <td>1</td>\n",
              "      <td>1</td>\n",
              "      <td>Processing</td>\n",
              "      <td>1</td>\n",
              "    </tr>\n",
              "  </tbody>\n",
              "</table>\n",
              "<p>11017 rows × 4 columns</p>\n",
              "</div>\n",
              "      <button class=\"colab-df-convert\" onclick=\"convertToInteractive('df-38423a21-9e4d-4420-961e-a642423d248c')\"\n",
              "              title=\"Convert this dataframe to an interactive table.\"\n",
              "              style=\"display:none;\">\n",
              "        \n",
              "  <svg xmlns=\"http://www.w3.org/2000/svg\" height=\"24px\"viewBox=\"0 0 24 24\"\n",
              "       width=\"24px\">\n",
              "    <path d=\"M0 0h24v24H0V0z\" fill=\"none\"/>\n",
              "    <path d=\"M18.56 5.44l.94 2.06.94-2.06 2.06-.94-2.06-.94-.94-2.06-.94 2.06-2.06.94zm-11 1L8.5 8.5l.94-2.06 2.06-.94-2.06-.94L8.5 2.5l-.94 2.06-2.06.94zm10 10l.94 2.06.94-2.06 2.06-.94-2.06-.94-.94-2.06-.94 2.06-2.06.94z\"/><path d=\"M17.41 7.96l-1.37-1.37c-.4-.4-.92-.59-1.43-.59-.52 0-1.04.2-1.43.59L10.3 9.45l-7.72 7.72c-.78.78-.78 2.05 0 2.83L4 21.41c.39.39.9.59 1.41.59.51 0 1.02-.2 1.41-.59l7.78-7.78 2.81-2.81c.8-.78.8-2.07 0-2.86zM5.41 20L4 18.59l7.72-7.72 1.47 1.35L5.41 20z\"/>\n",
              "  </svg>\n",
              "      </button>\n",
              "      \n",
              "  <style>\n",
              "    .colab-df-container {\n",
              "      display:flex;\n",
              "      flex-wrap:wrap;\n",
              "      gap: 12px;\n",
              "    }\n",
              "\n",
              "    .colab-df-convert {\n",
              "      background-color: #E8F0FE;\n",
              "      border: none;\n",
              "      border-radius: 50%;\n",
              "      cursor: pointer;\n",
              "      display: none;\n",
              "      fill: #1967D2;\n",
              "      height: 32px;\n",
              "      padding: 0 0 0 0;\n",
              "      width: 32px;\n",
              "    }\n",
              "\n",
              "    .colab-df-convert:hover {\n",
              "      background-color: #E2EBFA;\n",
              "      box-shadow: 0px 1px 2px rgba(60, 64, 67, 0.3), 0px 1px 3px 1px rgba(60, 64, 67, 0.15);\n",
              "      fill: #174EA6;\n",
              "    }\n",
              "\n",
              "    [theme=dark] .colab-df-convert {\n",
              "      background-color: #3B4455;\n",
              "      fill: #D2E3FC;\n",
              "    }\n",
              "\n",
              "    [theme=dark] .colab-df-convert:hover {\n",
              "      background-color: #434B5C;\n",
              "      box-shadow: 0px 1px 3px 1px rgba(0, 0, 0, 0.15);\n",
              "      filter: drop-shadow(0px 1px 2px rgba(0, 0, 0, 0.3));\n",
              "      fill: #FFFFFF;\n",
              "    }\n",
              "  </style>\n",
              "\n",
              "      <script>\n",
              "        const buttonEl =\n",
              "          document.querySelector('#df-38423a21-9e4d-4420-961e-a642423d248c button.colab-df-convert');\n",
              "        buttonEl.style.display =\n",
              "          google.colab.kernel.accessAllowed ? 'block' : 'none';\n",
              "\n",
              "        async function convertToInteractive(key) {\n",
              "          const element = document.querySelector('#df-38423a21-9e4d-4420-961e-a642423d248c');\n",
              "          const dataTable =\n",
              "            await google.colab.kernel.invokeFunction('convertToInteractive',\n",
              "                                                     [key], {});\n",
              "          if (!dataTable) return;\n",
              "\n",
              "          const docLinkHtml = 'Like what you see? Visit the ' +\n",
              "            '<a target=\"_blank\" href=https://colab.research.google.com/notebooks/data_table.ipynb>data table notebook</a>'\n",
              "            + ' to learn more about interactive tables.';\n",
              "          element.innerHTML = '';\n",
              "          dataTable['output_type'] = 'display_data';\n",
              "          await google.colab.output.renderOutput(dataTable, element);\n",
              "          const docLink = document.createElement('div');\n",
              "          docLink.innerHTML = docLinkHtml;\n",
              "          element.appendChild(docLink);\n",
              "        }\n",
              "      </script>\n",
              "    </div>\n",
              "  </div>\n",
              "  "
            ]
          },
          "metadata": {},
          "execution_count": 24
        }
      ]
    },
    {
      "cell_type": "code",
      "source": [
        "#codingan turun-temurun dari kak alvin\n",
        "#corr kategori tinggi 0.75\n",
        "# Create correlation matrix\n",
        "corr_matrix = df_p.corr().abs()\n",
        "\n",
        "# Select upper triangle of correlation matrix\n",
        "upper = corr_matrix.where(np.triu(np.ones(corr_matrix.shape), k=1).astype(np.bool_))\n",
        "\n",
        "plt.figure(figsize=(10,10))\n",
        "sns.heatmap(upper, annot=True, cmap='Blues')"
      ],
      "metadata": {
        "id": "MQrMXmP7jac4",
        "execution": {
          "iopub.status.busy": "2022-04-24T09:30:41.377960Z",
          "iopub.execute_input": "2022-04-24T09:30:41.378551Z",
          "iopub.status.idle": "2022-04-24T09:30:41.962919Z",
          "shell.execute_reply.started": "2022-04-24T09:30:41.378501Z",
          "shell.execute_reply": "2022-04-24T09:30:41.962020Z"
        },
        "trusted": true,
        "colab": {
          "base_uri": "https://localhost:8080/",
          "height": 650
        },
        "outputId": "5627be45-48e6-4bdd-d15e-d0beed30a085"
      },
      "execution_count": 25,
      "outputs": [
        {
          "output_type": "execute_result",
          "data": {
            "text/plain": [
              "<matplotlib.axes._subplots.AxesSubplot at 0x7f9f01bed710>"
            ]
          },
          "metadata": {},
          "execution_count": 25
        },
        {
          "output_type": "display_data",
          "data": {
            "text/plain": [
              "<Figure size 720x720 with 2 Axes>"
            ],
            "image/png": "[encoded data removed]"
          },
          "metadata": {}
        }
      ]
    },
    {
      "cell_type": "code",
      "source": [
        "# analyzing the payment methods chosen by different customers\n",
        "plt.figure(figsize=(40,20))\n",
        "sns.countplot(x='delivered_at', data=df_f)\n",
        "plt.title('Analyzing status process terkirim')\n",
        "plt.xlabel('delivered_at')\n",
        "plt.ylabel('sale')\n",
        "plt.show()"
      ],
      "metadata": {
        "colab": {
          "base_uri": "https://localhost:8080/",
          "height": 544
        },
        "id": "oVP9OrBp3u55",
        "outputId": "65809f24-e754-4863-c4eb-ed03e988b10c"
      },
      "execution_count": 18,
      "outputs": [
        {
          "output_type": "display_data",
          "data": {
            "text/plain": [
              "<Figure size 2880x1440 with 1 Axes>"
            ],
            "image/png": "[encoded data removed]"
          },
          "metadata": {}
        }
      ]
    },
    {
      "cell_type": "code",
      "source": [
        ""
      ],
      "metadata": {
        "id": "JwAT5d1j4lHL"
      },
      "execution_count": 26,
      "outputs": []
    },
    {
      "cell_type": "code",
      "source": [
        ""
      ],
      "metadata": {
        "id": "OEqpIwYzudkv"
      },
      "execution_count": null,
      "outputs": []
    },
    {
      "cell_type": "code",
      "source": [
        ""
      ],
      "metadata": {
        "id": "YLCpVp9iuda8"
      },
      "execution_count": null,
      "outputs": []
    }
  ]
}